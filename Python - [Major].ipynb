{
 "cells": [
  {
   "cell_type": "markdown",
   "id": "c2c28091",
   "metadata": {},
   "source": [
    "#### Q.1 Find the datatype of these two declaration :\n",
    "x = 5\n",
    "y = \"John\""
   ]
  },
  {
   "cell_type": "code",
   "execution_count": 4,
   "id": "0c750562",
   "metadata": {},
   "outputs": [
    {
     "name": "stdout",
     "output_type": "stream",
     "text": [
      "<class 'int'>\n",
      "<class 'str'>\n"
     ]
    }
   ],
   "source": [
    "x = 5\n",
    "y = 'John'\n",
    "print(type(x))\n",
    "print(type(y))"
   ]
  },
  {
   "cell_type": "markdown",
   "id": "472d6dac",
   "metadata": {},
   "source": [
    "#### Q.2 Check whether the following syntax is valid or invalid for naming a variable. :\n",
    "Example: abc=100 #valid syntax<br>"
   ]
  },
  {
   "cell_type": "code",
   "execution_count": 6,
   "id": "607d7c4f",
   "metadata": {},
   "outputs": [
    {
     "ename": "SyntaxError",
     "evalue": "invalid syntax (953243611.py, line 2)",
     "output_type": "error",
     "traceback": [
      "\u001b[1;36m  File \u001b[1;32m\"C:\\Users\\ASUS\\AppData\\Local\\Temp\\ipykernel_31092\\953243611.py\"\u001b[1;36m, line \u001b[1;32m2\u001b[0m\n\u001b[1;33m    3a=10 # Invalid Because -A variable name cannot start with a number\u001b[0m\n\u001b[1;37m     ^\u001b[0m\n\u001b[1;31mSyntaxError\u001b[0m\u001b[1;31m:\u001b[0m invalid syntax\n"
     ]
    }
   ],
   "source": [
    "# Q. 2.1 \n",
    "3a=10 # Invalid Because -A variable name cannot start with a number\n",
    "print(3a)"
   ]
  },
  {
   "cell_type": "code",
   "execution_count": 7,
   "id": "8d929fe1",
   "metadata": {},
   "outputs": [
    {
     "ename": "SyntaxError",
     "evalue": "invalid syntax (3855326890.py, line 2)",
     "output_type": "error",
     "traceback": [
      "\u001b[1;36m  File \u001b[1;32m\"C:\\Users\\ASUS\\AppData\\Local\\Temp\\ipykernel_31092\\3855326890.py\"\u001b[1;36m, line \u001b[1;32m2\u001b[0m\n\u001b[1;33m    @abc=10\u001b[0m\n\u001b[1;37m        ^\u001b[0m\n\u001b[1;31mSyntaxError\u001b[0m\u001b[1;31m:\u001b[0m invalid syntax\n"
     ]
    }
   ],
   "source": [
    "# Q. 2.2 \n",
    "@abc=10\n",
    "#Invalid Because a variable name can only contain alpha-numeric characters and underscores (A\u0002z, 0-9, and _ ) .It Does Not Contain Special Symbols like $ @ etc.\n",
    "print(@abc)"
   ]
  },
  {
   "cell_type": "code",
   "execution_count": 8,
   "id": "89180717",
   "metadata": {},
   "outputs": [
    {
     "name": "stdout",
     "output_type": "stream",
     "text": [
      "100\n"
     ]
    }
   ],
   "source": [
    "# Q. 2.3\n",
    "a100=100 #Valid Because it is Started with alphabet or combination of alphabet and digits\n",
    "print(a100)"
   ]
  },
  {
   "cell_type": "code",
   "execution_count": 10,
   "id": "0a9bea90",
   "metadata": {},
   "outputs": [
    {
     "name": "stdout",
     "output_type": "stream",
     "text": [
      "100\n"
     ]
    }
   ],
   "source": [
    "# Q. 2.4\n",
    "_a984_=100 #Valid because it is started with a underscore\n",
    "print(_a984_)"
   ]
  },
  {
   "cell_type": "code",
   "execution_count": 11,
   "id": "abee4bf8",
   "metadata": {},
   "outputs": [
    {
     "ename": "SyntaxError",
     "evalue": "invalid syntax (2232517584.py, line 2)",
     "output_type": "error",
     "traceback": [
      "\u001b[1;36m  File \u001b[1;32m\"C:\\Users\\ASUS\\AppData\\Local\\Temp\\ipykernel_31092\\2232517584.py\"\u001b[1;36m, line \u001b[1;32m2\u001b[0m\n\u001b[1;33m    a9967$=100 #Invalid because it contain special symbol $\u001b[0m\n\u001b[1;37m         ^\u001b[0m\n\u001b[1;31mSyntaxError\u001b[0m\u001b[1;31m:\u001b[0m invalid syntax\n"
     ]
    }
   ],
   "source": [
    "# Q. 2.5 \n",
    "a9967$=100 #Invalid because it contain special symbol $\n",
    "print(a9967$)"
   ]
  },
  {
   "cell_type": "code",
   "execution_count": 14,
   "id": "0253ef5f",
   "metadata": {},
   "outputs": [
    {
     "ename": "SyntaxError",
     "evalue": "cannot assign to operator (1200439582.py, line 2)",
     "output_type": "error",
     "traceback": [
      "\u001b[1;36m  File \u001b[1;32m\"C:\\Users\\ASUS\\AppData\\Local\\Temp\\ipykernel_31092\\1200439582.py\"\u001b[1;36m, line \u001b[1;32m2\u001b[0m\n\u001b[1;33m    xyz - 2 = 100 #Invalid Because An Expression Cannot Be A Variable or we cannot assign value to a operator\u001b[0m\n\u001b[1;37m    ^\u001b[0m\n\u001b[1;31mSyntaxError\u001b[0m\u001b[1;31m:\u001b[0m cannot assign to operator\n"
     ]
    }
   ],
   "source": [
    "# Q. 2.6\n",
    "xyz - 2 = 100 #Invalid Because An Expression Cannot Be A Variable or we cannot assign value to a operator\n",
    "print(xyz - 2)"
   ]
  },
  {
   "cell_type": "markdown",
   "id": "28701444",
   "metadata": {},
   "source": [
    "#### Q.3 Check if element exists in list in Python :\n",
    "List = test_list = [1, 6, 3, 5, 3, 4]"
   ]
  },
  {
   "cell_type": "code",
   "execution_count": 16,
   "id": "e8767874",
   "metadata": {},
   "outputs": [
    {
     "name": "stdout",
     "output_type": "stream",
     "text": [
      "Element Exist!\n"
     ]
    }
   ],
   "source": [
    "# Q. 3.1 Check if 3 exist or not.\n",
    "\n",
    "list = test_list = [1, 6, 3, 5, 3, 4]\n",
    "if ( 3 in list):\n",
    "    print(\"Element Exist!\")\n",
    "else:\n",
    "    print(\"Not Exist!\")"
   ]
  },
  {
   "cell_type": "code",
   "execution_count": 17,
   "id": "a27dc103",
   "metadata": {},
   "outputs": [
    {
     "name": "stdout",
     "output_type": "stream",
     "text": [
      "Not Exist!\n"
     ]
    }
   ],
   "source": [
    "# Q. 3.2 Check if 9 exists or not.\n",
    " \n",
    "list = test_list = [1, 6, 3, 5, 3, 4]\n",
    "if ( 9 in list):\n",
    "    print(\"Element Exist!\")\n",
    "else:\n",
    "    print(\"Not Exist!\")"
   ]
  },
  {
   "cell_type": "markdown",
   "id": "ec88e719",
   "metadata": {},
   "source": [
    "#### Q.4 Take the user input to print the current date "
   ]
  },
  {
   "cell_type": "code",
   "execution_count": 18,
   "id": "19af98e5",
   "metadata": {},
   "outputs": [
    {
     "name": "stdout",
     "output_type": "stream",
     "text": [
      "Enter A Year : 2023\n",
      "Enter A Month : 04\n",
      "Enter A Day : 29\n",
      "User Input Date Is : 2023-04-29\n"
     ]
    }
   ],
   "source": [
    "from datetime import date\n",
    "year = int(input('Enter A Year : '))\n",
    "month = int(input('Enter A Month : '))\n",
    "day = int(input('Enter A Day : '))\n",
    "inp_date = date(year, month, day)\n",
    "print(\"User Input Date Is :\",inp_date)"
   ]
  },
  {
   "cell_type": "markdown",
   "id": "dc37c3ae",
   "metadata": {},
   "source": [
    "#### Q.5 What is the output of the following code "
   ]
  },
  {
   "cell_type": "code",
   "execution_count": 19,
   "id": "717ad0fe",
   "metadata": {},
   "outputs": [
    {
     "name": "stdout",
     "output_type": "stream",
     "text": [
      "4\n"
     ]
    }
   ],
   "source": [
    "# Q. 5.1 Print 9//2\n",
    "\n",
    "print(9//2) # Floor Division Returns The Whole Number it’s avoid float value"
   ]
  },
  {
   "cell_type": "code",
   "execution_count": 20,
   "id": "a499b8d2",
   "metadata": {},
   "outputs": [
    {
     "name": "stdout",
     "output_type": "stream",
     "text": [
      "1\n"
     ]
    }
   ],
   "source": [
    "# Q. 5.2 Print 9%2\n",
    "\n",
    "print(9%2) # Modulus Operator Return the Remainder "
   ]
  },
  {
   "cell_type": "markdown",
   "id": "f299335e",
   "metadata": {},
   "source": [
    "#### Q.6 Print First 10 natural numbers using a while loop."
   ]
  },
  {
   "cell_type": "code",
   "execution_count": 30,
   "id": "d48e8c05",
   "metadata": {},
   "outputs": [
    {
     "name": "stdout",
     "output_type": "stream",
     "text": [
      "1 2 3 4 5 6 7 8 9 10 "
     ]
    }
   ],
   "source": [
    "n = 1\n",
    "while n<=10:\n",
    "    print(n,end=' ')\n",
    "    n = n + 1"
   ]
  },
  {
   "cell_type": "markdown",
   "id": "50e6838c",
   "metadata": {},
   "source": [
    "<b>  Q.7 Write a program to accept a number from a user and calculate the sum of All numbers from 1 to a given number.For example,  if the user entered 10 the output should be 55(1+2+3+4+5+6+7+8+9+10) <b>"
   ]
  },
  {
   "cell_type": "code",
   "execution_count": 32,
   "id": "de85f45c",
   "metadata": {},
   "outputs": [
    {
     "name": "stdout",
     "output_type": "stream",
     "text": [
      "Enter Number : 3\n",
      "Sum Of Natural Number Is :  6\n"
     ]
    }
   ],
   "source": [
    "n = int(input(\"Enter Number : \")) # User Input \n",
    "i = 1\n",
    "sum = 0\n",
    "while (i <= n):\n",
    " sum = sum + i\n",
    " i = i + 1\n",
    "print(\"Sum Of Natural Number Is : \", sum)"
   ]
  },
  {
   "cell_type": "markdown",
   "id": "8eca90bb",
   "metadata": {},
   "source": [
    "#### Q.8 Write a Python program which iterates the integers from 1 to 50. \n",
    "❖For Multiples of three print “Fizz” instead of the \n",
    "number and <br>\n",
    "❖For the multiples Of five print “Buzz”. <br>\n",
    "❖For numbers which are multiples of both three and five<br>\n",
    "   <br>Print “FizzBuzz”. <br>\n",
    "    Example :<br>\n",
    "          Fizzbuzz 1 2 Fizz 4 Buzz"
   ]
  },
  {
   "cell_type": "code",
   "execution_count": 33,
   "id": "b7619340",
   "metadata": {},
   "outputs": [
    {
     "name": "stdout",
     "output_type": "stream",
     "text": [
      "1\n",
      "2\n",
      "Fizz: 3\n",
      "4\n",
      "Buzz: 5\n",
      "Fizz: 6\n",
      "7\n",
      "8\n",
      "Fizz: 9\n",
      "Buzz: 10\n",
      "11\n",
      "Fizz: 12\n",
      "13\n",
      "14\n",
      "FizzBuzz: 15\n",
      "16\n",
      "17\n",
      "Fizz: 18\n",
      "19\n",
      "Buzz: 20\n",
      "Fizz: 21\n",
      "22\n",
      "23\n",
      "Fizz: 24\n",
      "Buzz: 25\n",
      "26\n",
      "Fizz: 27\n",
      "28\n",
      "29\n",
      "FizzBuzz: 30\n",
      "31\n",
      "32\n",
      "Fizz: 33\n",
      "34\n",
      "Buzz: 35\n",
      "Fizz: 36\n",
      "37\n",
      "38\n",
      "Fizz: 39\n",
      "Buzz: 40\n",
      "41\n",
      "Fizz: 42\n",
      "43\n",
      "44\n",
      "FizzBuzz: 45\n",
      "46\n",
      "47\n",
      "Fizz: 48\n",
      "49\n",
      "Buzz: 50\n"
     ]
    }
   ],
   "source": [
    "for num in range(1,51):\n",
    "    if num % 3 == 0 and num % 5 == 0:\n",
    "         print(\"FizzBuzz: \"+str(num))\n",
    "    elif num % 3 == 0:\n",
    "         print(\"Fizz: \" + str(num))\n",
    "    elif num % 5 == 0:\n",
    "         print(\"Buzz: \" + str(num))\n",
    "    else:\n",
    "         print(num)"
   ]
  },
  {
   "cell_type": "code",
   "execution_count": null,
   "id": "c44b4c28",
   "metadata": {},
   "outputs": [],
   "source": []
  },
  {
   "cell_type": "code",
   "execution_count": null,
   "id": "5183fe39",
   "metadata": {},
   "outputs": [],
   "source": []
  }
 ],
 "metadata": {
  "kernelspec": {
   "display_name": "Python 3 (ipykernel)",
   "language": "python",
   "name": "python3"
  },
  "language_info": {
   "codemirror_mode": {
    "name": "ipython",
    "version": 3
   },
   "file_extension": ".py",
   "mimetype": "text/x-python",
   "name": "python",
   "nbconvert_exporter": "python",
   "pygments_lexer": "ipython3",
   "version": "3.9.13"
  }
 },
 "nbformat": 4,
 "nbformat_minor": 5
}
